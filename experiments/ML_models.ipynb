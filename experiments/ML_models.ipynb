{
 "cells": [
  {
   "cell_type": "code",
   "execution_count": 1,
   "metadata": {},
   "outputs": [],
   "source": [
    "import pandas as pd\n",
    "import numpy as np\n",
    "import scipy.signal as signal\n",
    "from sklearn.decomposition import PCA\n",
    "import matplotlib.pyplot as plt"
   ]
  },
  {
   "cell_type": "code",
   "execution_count": 1,
   "metadata": {},
   "outputs": [
    {
     "data": {
      "text/html": [
       "<div>\n",
       "<style scoped>\n",
       "    .dataframe tbody tr th:only-of-type {\n",
       "        vertical-align: middle;\n",
       "    }\n",
       "\n",
       "    .dataframe tbody tr th {\n",
       "        vertical-align: top;\n",
       "    }\n",
       "\n",
       "    .dataframe thead th {\n",
       "        text-align: right;\n",
       "    }\n",
       "</style>\n",
       "<table border=\"1\" class=\"dataframe\">\n",
       "  <thead>\n",
       "    <tr style=\"text-align: right;\">\n",
       "      <th></th>\n",
       "      <th>PC1</th>\n",
       "      <th>PC2</th>\n",
       "      <th>PC3</th>\n",
       "      <th>PC4</th>\n",
       "      <th>PC5</th>\n",
       "      <th>PC6</th>\n",
       "      <th>PC7</th>\n",
       "      <th>PC8</th>\n",
       "      <th>PC9</th>\n",
       "      <th>PC10</th>\n",
       "      <th>...</th>\n",
       "      <th>PC17</th>\n",
       "      <th>PC18</th>\n",
       "      <th>PC19</th>\n",
       "      <th>PC20</th>\n",
       "      <th>PC21</th>\n",
       "      <th>PC22</th>\n",
       "      <th>PC23</th>\n",
       "      <th>PC24</th>\n",
       "      <th>PC25</th>\n",
       "      <th>PC26</th>\n",
       "    </tr>\n",
       "  </thead>\n",
       "  <tbody>\n",
       "    <tr>\n",
       "      <th>0</th>\n",
       "      <td>15.259753</td>\n",
       "      <td>28.476209</td>\n",
       "      <td>11.749857</td>\n",
       "      <td>34.158977</td>\n",
       "      <td>6.122358</td>\n",
       "      <td>56.576114</td>\n",
       "      <td>99.774931</td>\n",
       "      <td>19.381623</td>\n",
       "      <td>49.441228</td>\n",
       "      <td>8.683265</td>\n",
       "      <td>...</td>\n",
       "      <td>0.452624</td>\n",
       "      <td>0.127944</td>\n",
       "      <td>0.640533</td>\n",
       "      <td>0.054196</td>\n",
       "      <td>-0.888525</td>\n",
       "      <td>0.683743</td>\n",
       "      <td>1.557420</td>\n",
       "      <td>-9.460261</td>\n",
       "      <td>-22.296670</td>\n",
       "      <td>-5.175438</td>\n",
       "    </tr>\n",
       "    <tr>\n",
       "      <th>1</th>\n",
       "      <td>1.411590</td>\n",
       "      <td>4.168288</td>\n",
       "      <td>1.474030</td>\n",
       "      <td>0.416199</td>\n",
       "      <td>0.370706</td>\n",
       "      <td>2.423054</td>\n",
       "      <td>2.044256</td>\n",
       "      <td>0.782181</td>\n",
       "      <td>4.317048</td>\n",
       "      <td>-0.244394</td>\n",
       "      <td>...</td>\n",
       "      <td>0.053458</td>\n",
       "      <td>0.016485</td>\n",
       "      <td>0.031607</td>\n",
       "      <td>0.007872</td>\n",
       "      <td>-0.046957</td>\n",
       "      <td>0.063939</td>\n",
       "      <td>0.139864</td>\n",
       "      <td>-1.293864</td>\n",
       "      <td>-0.683405</td>\n",
       "      <td>-0.980892</td>\n",
       "    </tr>\n",
       "    <tr>\n",
       "      <th>2</th>\n",
       "      <td>0.538675</td>\n",
       "      <td>3.643919</td>\n",
       "      <td>1.465003</td>\n",
       "      <td>-0.130947</td>\n",
       "      <td>0.477834</td>\n",
       "      <td>0.794071</td>\n",
       "      <td>-0.840138</td>\n",
       "      <td>0.434273</td>\n",
       "      <td>3.604709</td>\n",
       "      <td>-0.282197</td>\n",
       "      <td>...</td>\n",
       "      <td>0.037545</td>\n",
       "      <td>0.011417</td>\n",
       "      <td>0.040912</td>\n",
       "      <td>0.006628</td>\n",
       "      <td>-0.047165</td>\n",
       "      <td>0.044313</td>\n",
       "      <td>0.084527</td>\n",
       "      <td>-0.822767</td>\n",
       "      <td>-0.779816</td>\n",
       "      <td>-0.583557</td>\n",
       "    </tr>\n",
       "    <tr>\n",
       "      <th>3</th>\n",
       "      <td>0.219051</td>\n",
       "      <td>3.374772</td>\n",
       "      <td>1.107466</td>\n",
       "      <td>-0.794776</td>\n",
       "      <td>0.015893</td>\n",
       "      <td>0.177590</td>\n",
       "      <td>-1.703613</td>\n",
       "      <td>0.251749</td>\n",
       "      <td>2.953230</td>\n",
       "      <td>-0.294314</td>\n",
       "      <td>...</td>\n",
       "      <td>0.035469</td>\n",
       "      <td>0.018384</td>\n",
       "      <td>0.031471</td>\n",
       "      <td>0.000045</td>\n",
       "      <td>-0.028405</td>\n",
       "      <td>0.030077</td>\n",
       "      <td>0.033724</td>\n",
       "      <td>-0.657387</td>\n",
       "      <td>-0.473037</td>\n",
       "      <td>-0.517400</td>\n",
       "    </tr>\n",
       "    <tr>\n",
       "      <th>4</th>\n",
       "      <td>0.184976</td>\n",
       "      <td>3.467239</td>\n",
       "      <td>0.892473</td>\n",
       "      <td>-1.018615</td>\n",
       "      <td>-0.283529</td>\n",
       "      <td>0.262277</td>\n",
       "      <td>-1.271925</td>\n",
       "      <td>0.219683</td>\n",
       "      <td>3.036408</td>\n",
       "      <td>-0.413809</td>\n",
       "      <td>...</td>\n",
       "      <td>-0.001921</td>\n",
       "      <td>-0.009348</td>\n",
       "      <td>0.050092</td>\n",
       "      <td>-0.012060</td>\n",
       "      <td>-0.017835</td>\n",
       "      <td>0.030639</td>\n",
       "      <td>0.009662</td>\n",
       "      <td>-0.615029</td>\n",
       "      <td>-0.534486</td>\n",
       "      <td>-0.394945</td>\n",
       "    </tr>\n",
       "    <tr>\n",
       "      <th>...</th>\n",
       "      <td>...</td>\n",
       "      <td>...</td>\n",
       "      <td>...</td>\n",
       "      <td>...</td>\n",
       "      <td>...</td>\n",
       "      <td>...</td>\n",
       "      <td>...</td>\n",
       "      <td>...</td>\n",
       "      <td>...</td>\n",
       "      <td>...</td>\n",
       "      <td>...</td>\n",
       "      <td>...</td>\n",
       "      <td>...</td>\n",
       "      <td>...</td>\n",
       "      <td>...</td>\n",
       "      <td>...</td>\n",
       "      <td>...</td>\n",
       "      <td>...</td>\n",
       "      <td>...</td>\n",
       "      <td>...</td>\n",
       "      <td>...</td>\n",
       "    </tr>\n",
       "    <tr>\n",
       "      <th>128758</th>\n",
       "      <td>-1.786875</td>\n",
       "      <td>-0.046389</td>\n",
       "      <td>-0.490176</td>\n",
       "      <td>2.835369</td>\n",
       "      <td>1.750635</td>\n",
       "      <td>2.690541</td>\n",
       "      <td>1.625597</td>\n",
       "      <td>2.808822</td>\n",
       "      <td>-1.327897</td>\n",
       "      <td>-1.143553</td>\n",
       "      <td>...</td>\n",
       "      <td>0.002506</td>\n",
       "      <td>-0.001039</td>\n",
       "      <td>0.003620</td>\n",
       "      <td>-0.052715</td>\n",
       "      <td>0.048657</td>\n",
       "      <td>-0.046210</td>\n",
       "      <td>0.153852</td>\n",
       "      <td>-0.728909</td>\n",
       "      <td>-0.692244</td>\n",
       "      <td>-0.173572</td>\n",
       "    </tr>\n",
       "    <tr>\n",
       "      <th>128759</th>\n",
       "      <td>-1.826036</td>\n",
       "      <td>-0.331235</td>\n",
       "      <td>0.146498</td>\n",
       "      <td>1.238234</td>\n",
       "      <td>2.429462</td>\n",
       "      <td>2.429047</td>\n",
       "      <td>2.553466</td>\n",
       "      <td>1.483351</td>\n",
       "      <td>0.342499</td>\n",
       "      <td>-0.687866</td>\n",
       "      <td>...</td>\n",
       "      <td>-0.014049</td>\n",
       "      <td>-0.016090</td>\n",
       "      <td>0.022668</td>\n",
       "      <td>-0.019678</td>\n",
       "      <td>-0.054265</td>\n",
       "      <td>0.049015</td>\n",
       "      <td>-0.000242</td>\n",
       "      <td>-0.214954</td>\n",
       "      <td>-0.485316</td>\n",
       "      <td>0.019337</td>\n",
       "    </tr>\n",
       "    <tr>\n",
       "      <th>128760</th>\n",
       "      <td>2.710204</td>\n",
       "      <td>2.594374</td>\n",
       "      <td>0.092545</td>\n",
       "      <td>1.362833</td>\n",
       "      <td>-0.745445</td>\n",
       "      <td>4.198422</td>\n",
       "      <td>2.356496</td>\n",
       "      <td>-0.598535</td>\n",
       "      <td>-0.572298</td>\n",
       "      <td>-0.050271</td>\n",
       "      <td>...</td>\n",
       "      <td>0.037357</td>\n",
       "      <td>-0.003557</td>\n",
       "      <td>0.059446</td>\n",
       "      <td>-0.039237</td>\n",
       "      <td>-0.187419</td>\n",
       "      <td>0.116586</td>\n",
       "      <td>0.124742</td>\n",
       "      <td>-0.831325</td>\n",
       "      <td>-0.533181</td>\n",
       "      <td>0.468700</td>\n",
       "    </tr>\n",
       "    <tr>\n",
       "      <th>128761</th>\n",
       "      <td>1.519461</td>\n",
       "      <td>2.732033</td>\n",
       "      <td>-0.012375</td>\n",
       "      <td>1.685147</td>\n",
       "      <td>-0.137596</td>\n",
       "      <td>2.982261</td>\n",
       "      <td>0.060729</td>\n",
       "      <td>-0.768495</td>\n",
       "      <td>1.546099</td>\n",
       "      <td>-0.221670</td>\n",
       "      <td>...</td>\n",
       "      <td>0.039102</td>\n",
       "      <td>0.010848</td>\n",
       "      <td>0.056428</td>\n",
       "      <td>-0.034033</td>\n",
       "      <td>-0.076507</td>\n",
       "      <td>0.020341</td>\n",
       "      <td>0.111116</td>\n",
       "      <td>-0.522893</td>\n",
       "      <td>-1.094548</td>\n",
       "      <td>0.054073</td>\n",
       "    </tr>\n",
       "    <tr>\n",
       "      <th>128762</th>\n",
       "      <td>1.170316</td>\n",
       "      <td>3.181644</td>\n",
       "      <td>1.035881</td>\n",
       "      <td>2.814095</td>\n",
       "      <td>0.460338</td>\n",
       "      <td>3.991110</td>\n",
       "      <td>1.923291</td>\n",
       "      <td>1.037630</td>\n",
       "      <td>5.397695</td>\n",
       "      <td>0.051336</td>\n",
       "      <td>...</td>\n",
       "      <td>0.021876</td>\n",
       "      <td>0.021315</td>\n",
       "      <td>0.051771</td>\n",
       "      <td>-0.015698</td>\n",
       "      <td>-0.021817</td>\n",
       "      <td>0.025492</td>\n",
       "      <td>0.106371</td>\n",
       "      <td>-1.057768</td>\n",
       "      <td>-0.782821</td>\n",
       "      <td>-0.995586</td>\n",
       "    </tr>\n",
       "  </tbody>\n",
       "</table>\n",
       "<p>128763 rows × 26 columns</p>\n",
       "</div>"
      ],
      "text/plain": [
       "              PC1        PC2        PC3        PC4       PC5        PC6  \\\n",
       "0       15.259753  28.476209  11.749857  34.158977  6.122358  56.576114   \n",
       "1        1.411590   4.168288   1.474030   0.416199  0.370706   2.423054   \n",
       "2        0.538675   3.643919   1.465003  -0.130947  0.477834   0.794071   \n",
       "3        0.219051   3.374772   1.107466  -0.794776  0.015893   0.177590   \n",
       "4        0.184976   3.467239   0.892473  -1.018615 -0.283529   0.262277   \n",
       "...           ...        ...        ...        ...       ...        ...   \n",
       "128758  -1.786875  -0.046389  -0.490176   2.835369  1.750635   2.690541   \n",
       "128759  -1.826036  -0.331235   0.146498   1.238234  2.429462   2.429047   \n",
       "128760   2.710204   2.594374   0.092545   1.362833 -0.745445   4.198422   \n",
       "128761   1.519461   2.732033  -0.012375   1.685147 -0.137596   2.982261   \n",
       "128762   1.170316   3.181644   1.035881   2.814095  0.460338   3.991110   \n",
       "\n",
       "              PC7        PC8        PC9      PC10  ...      PC17      PC18  \\\n",
       "0       99.774931  19.381623  49.441228  8.683265  ...  0.452624  0.127944   \n",
       "1        2.044256   0.782181   4.317048 -0.244394  ...  0.053458  0.016485   \n",
       "2       -0.840138   0.434273   3.604709 -0.282197  ...  0.037545  0.011417   \n",
       "3       -1.703613   0.251749   2.953230 -0.294314  ...  0.035469  0.018384   \n",
       "4       -1.271925   0.219683   3.036408 -0.413809  ... -0.001921 -0.009348   \n",
       "...           ...        ...        ...       ...  ...       ...       ...   \n",
       "128758   1.625597   2.808822  -1.327897 -1.143553  ...  0.002506 -0.001039   \n",
       "128759   2.553466   1.483351   0.342499 -0.687866  ... -0.014049 -0.016090   \n",
       "128760   2.356496  -0.598535  -0.572298 -0.050271  ...  0.037357 -0.003557   \n",
       "128761   0.060729  -0.768495   1.546099 -0.221670  ...  0.039102  0.010848   \n",
       "128762   1.923291   1.037630   5.397695  0.051336  ...  0.021876  0.021315   \n",
       "\n",
       "            PC19      PC20      PC21      PC22      PC23      PC24       PC25  \\\n",
       "0       0.640533  0.054196 -0.888525  0.683743  1.557420 -9.460261 -22.296670   \n",
       "1       0.031607  0.007872 -0.046957  0.063939  0.139864 -1.293864  -0.683405   \n",
       "2       0.040912  0.006628 -0.047165  0.044313  0.084527 -0.822767  -0.779816   \n",
       "3       0.031471  0.000045 -0.028405  0.030077  0.033724 -0.657387  -0.473037   \n",
       "4       0.050092 -0.012060 -0.017835  0.030639  0.009662 -0.615029  -0.534486   \n",
       "...          ...       ...       ...       ...       ...       ...        ...   \n",
       "128758  0.003620 -0.052715  0.048657 -0.046210  0.153852 -0.728909  -0.692244   \n",
       "128759  0.022668 -0.019678 -0.054265  0.049015 -0.000242 -0.214954  -0.485316   \n",
       "128760  0.059446 -0.039237 -0.187419  0.116586  0.124742 -0.831325  -0.533181   \n",
       "128761  0.056428 -0.034033 -0.076507  0.020341  0.111116 -0.522893  -1.094548   \n",
       "128762  0.051771 -0.015698 -0.021817  0.025492  0.106371 -1.057768  -0.782821   \n",
       "\n",
       "            PC26  \n",
       "0      -5.175438  \n",
       "1      -0.980892  \n",
       "2      -0.583557  \n",
       "3      -0.517400  \n",
       "4      -0.394945  \n",
       "...          ...  \n",
       "128758 -0.173572  \n",
       "128759  0.019337  \n",
       "128760  0.468700  \n",
       "128761  0.054073  \n",
       "128762 -0.995586  \n",
       "\n",
       "[128763 rows x 26 columns]"
      ]
     },
     "execution_count": 1,
     "metadata": {},
     "output_type": "execute_result"
    }
   ],
   "source": [
    "from utils import read_files\n",
    "from utils import pca_transofrmation\n",
    "df_final = read_files('/home/david/Documents/HAR/data/harth')\n",
    "X_pca, y = pca_transofrmation(df_final)\n",
    "X_pca"
   ]
  },
  {
   "cell_type": "code",
   "execution_count": 34,
   "metadata": {},
   "outputs": [
    {
     "data": {
      "text/plain": [
       "7      57978\n",
       "1      23964\n",
       "6      14881\n",
       "8       8208\n",
       "13      7879\n",
       "2       5827\n",
       "3       5044\n",
       "4       1529\n",
       "5       1345\n",
       "14      1120\n",
       "130      832\n",
       "140      156\n",
       "Name: count, dtype: int64"
      ]
     },
     "execution_count": 34,
     "metadata": {},
     "output_type": "execute_result"
    }
   ],
   "source": [
    "y_df = pd.Series(y)\n",
    "\n",
    "counts = y_df.value_counts()\n",
    "counts"
   ]
  },
  {
   "cell_type": "code",
   "execution_count": 36,
   "metadata": {},
   "outputs": [
    {
     "data": {
      "image/png": "[encoded data removed]",
      "text/plain": [
       "<Figure size 640x480 with 1 Axes>"
      ]
     },
     "metadata": {},
     "output_type": "display_data"
    }
   ],
   "source": [
    "counts.plot(kind='bar')\n",
    "plt.xlabel('Unique Values')\n",
    "plt.ylabel('Counts')\n",
    "plt.title('Histogram of Unique Values')\n",
    "plt.show()"
   ]
  },
  {
   "cell_type": "markdown",
   "metadata": {},
   "source": [
    "## Neural Networks"
   ]
  },
  {
   "cell_type": "code",
   "execution_count": 4,
   "metadata": {},
   "outputs": [
    {
     "data": {
      "text/plain": [
       "0.8780706577261078"
      ]
     },
     "execution_count": 4,
     "metadata": {},
     "output_type": "execute_result"
    }
   ],
   "source": [
    "from sklearn.neural_network import MLPClassifier\n",
    "# Create an instance of MLPClassifier\n",
    "mlp = MLPClassifier(hidden_layer_sizes=(64,), activation='relu', max_iter=1000)\n",
    "\n",
    "from sklearn.model_selection import cross_val_score\n",
    "# Perform cross-validation\n",
    "mlp_scores = cross_val_score(mlp, X_pca, y, cv=3, scoring='f1_weighted')  # Use 3-fold cross-validation\n",
    "mlp_scores.mean()"
   ]
  },
  {
   "cell_type": "markdown",
   "metadata": {},
   "source": [
    "## Random Forest"
   ]
  },
  {
   "cell_type": "code",
   "execution_count": 10,
   "metadata": {},
   "outputs": [],
   "source": [
    "from sklearn.model_selection import GridSearchCV\n",
    "from sklearn.ensemble import RandomForestClassifier\n",
    "\n",
    "rf = RandomForestClassifier()\n",
    "\n",
    "rf_param_dist = {\n",
    "    'n_estimators': [20, 40, 80, 100, 120],\n",
    "    'max_depth': [None],\n",
    "    'criterion': ['gini'],\n",
    "    'min_samples_split': [2, 5, 10],\n",
    "    'min_samples_leaf': [1],\n",
    "    'max_features': ['sqrt'],\n",
    "    'max_leaf_nodes': [None],\n",
    "    'bootstrap': [True],\n",
    "    'n_jobs': [10],\n",
    "    'class_weight': [None, 'balanced']\n",
    "}\n",
    "\n",
    "gs_rf = GridSearchCV(estimator=rf, param_grid=rf_param_dist, cv=3, scoring='f1_weighted')\n",
    "# Fit the grid search on your data\n",
    "gs_rf.fit(X_pca, y)\n",
    "\n",
    "# Best hyperparameters\n",
    "rf_best_params = gs_rf.best_params_\n",
    "\n",
    "# Best score\n",
    "rf_best_score = gs_rf.best_score_\n"
   ]
  },
  {
   "cell_type": "code",
   "execution_count": null,
   "metadata": {},
   "outputs": [],
   "source": [
    "print(\"Best F1-score (weighted):\", rf_best_score)"
   ]
  },
  {
   "cell_type": "code",
   "execution_count": 13,
   "metadata": {},
   "outputs": [
    {
     "data": {
      "text/html": [
       "<style>#sk-container-id-1 {color: black;background-color: white;}#sk-container-id-1 pre{padding: 0;}#sk-container-id-1 div.sk-toggleable {background-color: white;}#sk-container-id-1 label.sk-toggleable__label {cursor: pointer;display: block;width: 100%;margin-bottom: 0;padding: 0.3em;box-sizing: border-box;text-align: center;}#sk-container-id-1 label.sk-toggleable__label-arrow:before {content: \"▸\";float: left;margin-right: 0.25em;color: #696969;}#sk-container-id-1 label.sk-toggleable__label-arrow:hover:before {color: black;}#sk-container-id-1 div.sk-estimator:hover label.sk-toggleable__label-arrow:before {color: black;}#sk-container-id-1 div.sk-toggleable__content {max-height: 0;max-width: 0;overflow: hidden;text-align: left;background-color: #f0f8ff;}#sk-container-id-1 div.sk-toggleable__content pre {margin: 0.2em;color: black;border-radius: 0.25em;background-color: #f0f8ff;}#sk-container-id-1 input.sk-toggleable__control:checked~div.sk-toggleable__content {max-height: 200px;max-width: 100%;overflow: auto;}#sk-container-id-1 input.sk-toggleable__control:checked~label.sk-toggleable__label-arrow:before {content: \"▾\";}#sk-container-id-1 div.sk-estimator input.sk-toggleable__control:checked~label.sk-toggleable__label {background-color: #d4ebff;}#sk-container-id-1 div.sk-label input.sk-toggleable__control:checked~label.sk-toggleable__label {background-color: #d4ebff;}#sk-container-id-1 input.sk-hidden--visually {border: 0;clip: rect(1px 1px 1px 1px);clip: rect(1px, 1px, 1px, 1px);height: 1px;margin: -1px;overflow: hidden;padding: 0;position: absolute;width: 1px;}#sk-container-id-1 div.sk-estimator {font-family: monospace;background-color: #f0f8ff;border: 1px dotted black;border-radius: 0.25em;box-sizing: border-box;margin-bottom: 0.5em;}#sk-container-id-1 div.sk-estimator:hover {background-color: #d4ebff;}#sk-container-id-1 div.sk-parallel-item::after {content: \"\";width: 100%;border-bottom: 1px solid gray;flex-grow: 1;}#sk-container-id-1 div.sk-label:hover label.sk-toggleable__label {background-color: #d4ebff;}#sk-container-id-1 div.sk-serial::before {content: \"\";position: absolute;border-left: 1px solid gray;box-sizing: border-box;top: 0;bottom: 0;left: 50%;z-index: 0;}#sk-container-id-1 div.sk-serial {display: flex;flex-direction: column;align-items: center;background-color: white;padding-right: 0.2em;padding-left: 0.2em;position: relative;}#sk-container-id-1 div.sk-item {position: relative;z-index: 1;}#sk-container-id-1 div.sk-parallel {display: flex;align-items: stretch;justify-content: center;background-color: white;position: relative;}#sk-container-id-1 div.sk-item::before, #sk-container-id-1 div.sk-parallel-item::before {content: \"\";position: absolute;border-left: 1px solid gray;box-sizing: border-box;top: 0;bottom: 0;left: 50%;z-index: -1;}#sk-container-id-1 div.sk-parallel-item {display: flex;flex-direction: column;z-index: 1;position: relative;background-color: white;}#sk-container-id-1 div.sk-parallel-item:first-child::after {align-self: flex-end;width: 50%;}#sk-container-id-1 div.sk-parallel-item:last-child::after {align-self: flex-start;width: 50%;}#sk-container-id-1 div.sk-parallel-item:only-child::after {width: 0;}#sk-container-id-1 div.sk-dashed-wrapped {border: 1px dashed gray;margin: 0 0.4em 0.5em 0.4em;box-sizing: border-box;padding-bottom: 0.4em;background-color: white;}#sk-container-id-1 div.sk-label label {font-family: monospace;font-weight: bold;display: inline-block;line-height: 1.2em;}#sk-container-id-1 div.sk-label-container {text-align: center;}#sk-container-id-1 div.sk-container {/* jupyter's `normalize.less` sets `[hidden] { display: none; }` but bootstrap.min.css set `[hidden] { display: none !important; }` so we also need the `!important` here to be able to override the default hidden behavior on the sphinx rendered scikit-learn.org. See: https://github.com/scikit-learn/scikit-learn/issues/21755 */display: inline-block !important;position: relative;}#sk-container-id-1 div.sk-text-repr-fallback {display: none;}</style><div id=\"sk-container-id-1\" class=\"sk-top-container\"><div class=\"sk-text-repr-fallback\"><pre>RandomForestClassifier(class_weight=&#x27;balanced&#x27;, min_samples_split=10,\n",
       "                       n_estimators=80, n_jobs=10)</pre><b>In a Jupyter environment, please rerun this cell to show the HTML representation or trust the notebook. <br />On GitHub, the HTML representation is unable to render, please try loading this page with nbviewer.org.</b></div><div class=\"sk-container\" hidden><div class=\"sk-item\"><div class=\"sk-estimator sk-toggleable\"><input class=\"sk-toggleable__control sk-hidden--visually\" id=\"sk-estimator-id-1\" type=\"checkbox\" checked><label for=\"sk-estimator-id-1\" class=\"sk-toggleable__label sk-toggleable__label-arrow\">RandomForestClassifier</label><div class=\"sk-toggleable__content\"><pre>RandomForestClassifier(class_weight=&#x27;balanced&#x27;, min_samples_split=10,\n",
       "                       n_estimators=80, n_jobs=10)</pre></div></div></div></div></div>"
      ],
      "text/plain": [
       "RandomForestClassifier(class_weight='balanced', min_samples_split=10,\n",
       "                       n_estimators=80, n_jobs=10)"
      ]
     },
     "execution_count": 13,
     "metadata": {},
     "output_type": "execute_result"
    }
   ],
   "source": [
    "# Create a RandomForestClassifier with best hyperparameters\n",
    "best_rf = RandomForestClassifier(**rf_best_params)\n",
    "\n",
    "# Fit the best model on the full dataset\n",
    "best_rf.fit(X_pca, y)"
   ]
  },
  {
   "cell_type": "code",
   "execution_count": 14,
   "metadata": {},
   "outputs": [
    {
     "data": {
      "text/plain": [
       "0.8884223436698196"
      ]
     },
     "execution_count": 14,
     "metadata": {},
     "output_type": "execute_result"
    }
   ],
   "source": [
    "from sklearn.model_selection import cross_val_score\n",
    "rf_scores = cross_val_score(best_rf, X_pca, y, cv=3, scoring='f1_weighted')  # Perform 3-fold cross-validation\n",
    "rf_mean_score = rf_scores.mean()\n",
    "rf_mean_score"
   ]
  },
  {
   "cell_type": "markdown",
   "metadata": {},
   "source": [
    "## Support Vector Machine"
   ]
  },
  {
   "cell_type": "code",
   "execution_count": 3,
   "metadata": {},
   "outputs": [],
   "source": [
    "from sklearn.model_selection import GridSearchCV\n",
    "from sklearn.svm import SVC\n",
    "\n",
    "svmC = SVC()\n",
    "\n",
    "svmC_param_dist = {\n",
    "    'kernel': ['rbf'],\n",
    "    'class_weight': [None, 'balanced'],\n",
    "    'probability': [True],\n",
    "    'C': [1, 10, 100],\n",
    "    'gamma': ['scale',0.0001],\n",
    "    'max_iter': [-1]\n",
    "}\n",
    "\n",
    "gs_svmC = GridSearchCV(estimator=svmC, param_grid=svmC_param_dist, cv=3, scoring='f1_weighted')\n",
    "# Fit the grid search on your data\n",
    "gs_svmC.fit(X_pca, y)\n",
    "\n",
    "# Best hyperparameters\n",
    "svmC_best_params = gs_svmC.best_params_\n",
    "\n",
    "# Best score\n",
    "svmC_best_score = gs_svmC.best_score_"
   ]
  },
  {
   "cell_type": "code",
   "execution_count": 4,
   "metadata": {},
   "outputs": [
    {
     "name": "stdout",
     "output_type": "stream",
     "text": [
      "Best F1-score (weighted): 0.8550185681314747\n"
     ]
    }
   ],
   "source": [
    "print(\"Best F1-score (weighted):\", svmC_best_score)"
   ]
  },
  {
   "cell_type": "code",
   "execution_count": 6,
   "metadata": {},
   "outputs": [
    {
     "data": {
      "text/plain": [
       "{'C': 100,\n",
       " 'class_weight': None,\n",
       " 'gamma': 0.0001,\n",
       " 'kernel': 'rbf',\n",
       " 'max_iter': -1,\n",
       " 'probability': True}"
      ]
     },
     "execution_count": 6,
     "metadata": {},
     "output_type": "execute_result"
    }
   ],
   "source": [
    "svmC_best_params"
   ]
  },
  {
   "cell_type": "code",
   "execution_count": 7,
   "metadata": {},
   "outputs": [
    {
     "ename": "NameError",
     "evalue": "name 'X_pca' is not defined",
     "output_type": "error",
     "traceback": [
      "\u001b[0;31m---------------------------------------------------------------------------\u001b[0m",
      "\u001b[0;31mNameError\u001b[0m                                 Traceback (most recent call last)",
      "Cell \u001b[0;32mIn[7], line 5\u001b[0m\n\u001b[1;32m      2\u001b[0m best_svmC \u001b[39m=\u001b[39m SVC(\u001b[39m*\u001b[39m\u001b[39m*\u001b[39msvmC_best_params)\n\u001b[1;32m      4\u001b[0m \u001b[39m# Fit the best model on the full dataset\u001b[39;00m\n\u001b[0;32m----> 5\u001b[0m best_svmC\u001b[39m.\u001b[39mfit(X_pca, y)\n",
      "\u001b[0;31mNameError\u001b[0m: name 'X_pca' is not defined"
     ]
    }
   ],
   "source": [
    "# Create a Support Vector Machine with best hyperparameters\n",
    "best_svmC = SVC(**svmC_best_params)\n",
    "\n",
    "# Fit the best model on the full dataset\n",
    "best_svmC.fit(X_pca, y)"
   ]
  },
  {
   "cell_type": "markdown",
   "metadata": {},
   "source": [
    "## K-Neighbors Classifier"
   ]
  },
  {
   "cell_type": "code",
   "execution_count": null,
   "metadata": {},
   "outputs": [],
   "source": [
    "from sklearn.model_selection import GridSearchCV\n",
    "from sklearn.neighbors import KNeighborsClassifier\n",
    "\n",
    "knn = KNeighborsClassifier()\n",
    "\n",
    "knn_param_dist = {\n",
    "    'n_neighbors': [1,2,3,4,5,6,7,8,9,10,11,12,20,30],\n",
    "    'weights': [\"uniform\", \"distance\"],\n",
    "    'n_jobs': [1]\n",
    "}\n",
    "\n",
    "gs_knn = GridSearchCV(estimator=knn, param_grid=knn_param_dist, cv=3, scoring='f1_weighted')\n",
    "# Fit the grid search on your data\n",
    "gs_knn.fit(X_pca, y)\n",
    "\n",
    "# Best hyperparameters\n",
    "knn_best_params = gs_knn.best_params_\n",
    "\n",
    "# Best score\n",
    "knn_best_score = gs_knn.best_score_"
   ]
  },
  {
   "cell_type": "code",
   "execution_count": null,
   "metadata": {},
   "outputs": [],
   "source": [
    "print(\"Best F1-score (weighted):\", knn_best_score)"
   ]
  },
  {
   "cell_type": "code",
   "execution_count": null,
   "metadata": {},
   "outputs": [],
   "source": [
    "# Create a K-Neighbors Classifier with best hyperparameters\n",
    "best_knn = KNeighborsClassifier(**knn_best_params)\n",
    "\n",
    "# Fit the best model on the full dataset\n",
    "best_knn.fit(X_pca, y)"
   ]
  },
  {
   "cell_type": "code",
   "execution_count": null,
   "metadata": {},
   "outputs": [],
   "source": [
    "from sklearn.model_selection import cross_val_score\n",
    "knn_scores = cross_val_score(best_knn, X_pca, y, cv=3, scoring='f1_weighted')  # Perform 3-fold cross-validation\n",
    "knn_mean_score = knn_scores.mean()\n",
    "knn_mean_score"
   ]
  }
 ],
 "metadata": {
  "kernelspec": {
   "display_name": "HAR",
   "language": "python",
   "name": "python3"
  },
  "language_info": {
   "codemirror_mode": {
    "name": "ipython",
    "version": 3
   },
   "file_extension": ".py",
   "mimetype": "text/x-python",
   "name": "python",
   "nbconvert_exporter": "python",
   "pygments_lexer": "ipython3",
   "version": "3.8.10"
  },
  "orig_nbformat": 4
 },
 "nbformat": 4,
 "nbformat_minor": 2
}
